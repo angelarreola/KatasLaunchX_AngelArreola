{
 "cells": [
  {
   "cell_type": "markdown",
   "metadata": {},
   "source": [
    "### Evidencia de la creacion y activacion de un ambiente virtual\n",
    "\n",
    "<img src=\"evidenciaKata2.png\">"
   ]
  }
 ],
 "metadata": {
  "language_info": {
   "name": "python"
  },
  "orig_nbformat": 4
 },
 "nbformat": 4,
 "nbformat_minor": 2
}
